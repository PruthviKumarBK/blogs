{
 "cells": [
  {
   "cell_type": "code",
   "execution_count": null,
   "metadata": {},
   "outputs": [],
   "source": [
    "import pyspark\n",
    "from pyspark import SparkConf, SparkContext\n",
    "conf = pyspark.SparkConf()"
   ]
  },
  {
   "cell_type": "code",
   "execution_count": null,
   "metadata": {},
   "outputs": [],
   "source": [
    "from pyspark.sql import SparkSession\n",
    "import pyspark\n",
    "from pyspark.sql.types import *\n",
    "from pyspark.sql.window import Window\n",
    "import pyspark.sql.functions as func\n",
    "from pyspark import SparkConf, SparkContext\n",
    "from  pyspark.sql.functions import abs, lower , col , when\n",
    "import datetime"
   ]
  },
  {
   "cell_type": "code",
   "execution_count": null,
   "metadata": {},
   "outputs": [],
   "source": [
    "conf.setMaster(\"spark://master:7077\")\n",
    "conf = (conf.set(\"deploy-mode\",\"client\")\n",
    "       .setAppName('convert')\n",
    "       .set(\"spark.driver.memory\",\"4g\")\n",
    "       .set(\"spark.executor.memory\",\"12g\")\n",
    "       .set(\"spark.cores.max\",\"48\"))\n",
    "sc = SparkContext(conf=conf)  \n",
    "spark = SparkSession.builder.getOrCreate()"
   ]
  },
  {
   "cell_type": "code",
   "execution_count": null,
   "metadata": {},
   "outputs": [],
   "source": [
    "e = datetime.datetime.now()\n",
    "start=str(e.strftime(\"%Y-%m-%d %H:%M:%S\"))\n",
    "print(\"Start Timestmp: \"+start)"
   ]
  },
  {
   "cell_type": "code",
   "execution_count": null,
   "metadata": {},
   "outputs": [],
   "source": [
    "df = spark.read.orc('/data/raw/orc/')"
   ]
  },
  {
   "cell_type": "code",
   "execution_count": null,
   "metadata": {},
   "outputs": [],
   "source": [
    "orderby = ['stock','price','timetamp']"
   ]
  },
  {
   "cell_type": "code",
   "execution_count": null,
   "metadata": {},
   "outputs": [],
   "source": [
    "df_ordered=df.orderBy(orderby, ascending=False)"
   ]
  },
  {
   "cell_type": "code",
   "execution_count": null,
   "metadata": {},
   "outputs": [],
   "source": [
    "df_ordered.write.orc('/data/raw/orc_ordered/', mode = \"overwrite\")\n",
    "e = datetime.datetime.now()\n",
    "start=str(e.strftime(\"%Y-%m-%d %H:%M:%S\"))\n",
    "print(\"End Timestmp: \"+start)"
   ]
  },
  {
   "cell_type": "code",
   "execution_count": null,
   "metadata": {},
   "outputs": [],
   "source": [
    "import pyspark.sql.functions as func\n",
    "df_max=df.groupBy('stock').max('price').select(func.col(\"max(price)\").alias(\"maxprice\"))"
   ]
  },
  {
   "cell_type": "code",
   "execution_count": null,
   "metadata": {},
   "outputs": [],
   "source": [
    "df_max.write.orc('/data/raw/orc_max/', mode = \"overwrite\")\n",
    "e = datetime.datetime.now()\n",
    "start=str(e.strftime(\"%Y-%m-%d %H:%M:%S\"))\n",
    "print(\"End Timestmp: \"+start)"
   ]
  },
  {
   "cell_type": "code",
   "execution_count": null,
   "metadata": {},
   "outputs": [],
   "source": []
  }
 ],
 "metadata": {
  "kernelspec": {
   "display_name": "Python 3",
   "language": "python",
   "name": "python3"
  },
  "language_info": {
   "codemirror_mode": {
    "name": "ipython",
    "version": 3
   },
   "file_extension": ".py",
   "mimetype": "text/x-python",
   "name": "python",
   "nbconvert_exporter": "python",
   "pygments_lexer": "ipython3",
   "version": "3.6.8"
  }
 },
 "nbformat": 4,
 "nbformat_minor": 4
}
