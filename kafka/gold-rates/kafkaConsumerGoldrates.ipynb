{
 "cells": [
  {
   "cell_type": "code",
   "execution_count": null,
   "metadata": {},
   "outputs": [],
   "source": [
    "import time\n",
    "import json\n",
    "from kafka import KafkaConsumer\n",
    "from pandas import DataFrame\n",
    "from datetime import datetime\n",
    "import matplotlib.pyplot as plt"
   ]
  },
  {
   "cell_type": "code",
   "execution_count": null,
   "metadata": {},
   "outputs": [],
   "source": [
    "brokers='localhost:9092'\n",
    "topic='Goldrates'\n",
    "sleep_time=300\n",
    "offset='latest'"
   ]
  },
  {
   "cell_type": "code",
   "execution_count": null,
   "metadata": {},
   "outputs": [],
   "source": [
    "consumer = KafkaConsumer(bootstrap_servers=brokers, auto_offset_reset=offset,consumer_timeout_ms=1000)\n",
    "consumer.subscribe([topic]) "
   ]
  },
  {
   "cell_type": "code",
   "execution_count": null,
   "metadata": {},
   "outputs": [],
   "source": [
    "prev_price=0\n",
    "goldprice_dict = {}\n",
    "while(True):\n",
    "    for message in consumer:\n",
    "        #print(message)\n",
    "        d=json.loads(message.value)\n",
    "        df=DataFrame(d)\n",
    "        for x in range(1):\n",
    "            #print(x)\n",
    "            new_price=df['spreadProfilePrices'][x][0]\n",
    "            ts=df['ts'][x]\n",
    "            #print(new_price)\n",
    "            print(\"Latest Gold Price: \" + str(new_price['ask']))\n",
    "            datetime_time = datetime.fromtimestamp(ts/1000)\n",
    "            goldprice_dict[str(datetime_time)]=new_price['ask']\n",
    "            print(\"Gold Price at: \" + str(datetime_time))\n",
    "        print(\"-----------------------------------------\")\n",
    "        #print(goldprice_dict)\n",
    "        plt.figure(figsize=(20,10))\n",
    "        plt.bar(range(len(goldprice_dict)), list(goldprice_dict.values()), align='center',linewidth=0.5)\n",
    "        plt.xticks(range(len(goldprice_dict)), list(goldprice_dict.keys()))\n",
    "        plt.show()\n",
    "        \n",
    "    time.sleep(sleep_time)"
   ]
  },
  {
   "cell_type": "code",
   "execution_count": null,
   "metadata": {},
   "outputs": [],
   "source": []
  }
 ],
 "metadata": {
  "kernelspec": {
   "display_name": "Python 2",
   "language": "python",
   "name": "python2"
  },
  "language_info": {
   "codemirror_mode": {
    "name": "ipython",
    "version": 2
   },
   "file_extension": ".py",
   "mimetype": "text/x-python",
   "name": "python",
   "nbconvert_exporter": "python",
   "pygments_lexer": "ipython2",
   "version": "2.7.16"
  }
 },
 "nbformat": 4,
 "nbformat_minor": 2
}
