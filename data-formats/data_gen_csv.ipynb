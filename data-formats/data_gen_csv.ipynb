{
 "cells": [
  {
   "cell_type": "code",
   "execution_count": 6,
   "metadata": {},
   "outputs": [],
   "source": [
    "import json\n",
    "from datetime import datetime\n",
    "import calendar\n",
    "import random\n",
    "import time\n",
    "import sys\n",
    "from pathlib import Path"
   ]
  },
  {
   "cell_type": "code",
   "execution_count": 7,
   "metadata": {},
   "outputs": [],
   "source": [
    "def put_to_stream(symbol, price, ticker_timestamp):\n",
    "    payload = str(symbol)+','+str(price)+','+str(ticker_timestamp)\n",
    "\n",
    "    return payload"
   ]
  },
  {
   "cell_type": "code",
   "execution_count": 8,
   "metadata": {},
   "outputs": [],
   "source": [
    "path=\"/home/particle/data/csv/data.csv\"\n",
    "f = open(path, \"a\")\n",
    "size=0\n",
    "\n",
    "while (size<=500000000):\n",
    "    price = random.uniform(10.5, 500.5)\n",
    "    ticker_timestamp = calendar.timegm(datetime.utcnow().timetuple())\n",
    "    symbols = ['AAPL','AMZN','MSFT', 'FB', 'MCD', 'SBUX']\n",
    "    symbol = random.choice(symbols)\n",
    "    payload=put_to_stream(symbol, price, ticker_timestamp)\n",
    "    #print(payload)\n",
    "    f.write(str(payload)+'\\n')\n",
    "    size=size+1\n",
    "    #print(size)\n",
    "\n",
    "f.close()"
   ]
  }
 ],
 "metadata": {
  "kernelspec": {
   "display_name": "Python 3",
   "language": "python",
   "name": "python3"
  },
  "language_info": {
   "codemirror_mode": {
    "name": "ipython",
    "version": 3
   },
   "file_extension": ".py",
   "mimetype": "text/x-python",
   "name": "python",
   "nbconvert_exporter": "python",
   "pygments_lexer": "ipython3",
   "version": "3.6.8"
  }
 },
 "nbformat": 4,
 "nbformat_minor": 4
}
