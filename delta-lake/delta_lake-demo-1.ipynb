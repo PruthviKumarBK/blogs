{
 "cells": [
  {
   "cell_type": "code",
   "execution_count": 2,
   "metadata": {},
   "outputs": [],
   "source": [
    "from pyspark.sql import SparkSession\n",
    "import pyspark\n",
    "from pyspark.sql.functions import *\n",
    "spark = pyspark.sql.SparkSession.builder.appName(\"Product_Price_Tracking\") \\\n",
    "    .config(\"spark.jars.packages\", \"io.delta:delta-core_2.12:0.7.0\") \\\n",
    "    .config(\"spark.sql.extensions\", \"io.delta.sql.DeltaSparkSessionExtension\") \\\n",
    "    .config(\"spark.sql.catalog.spark_catalog\", \"org.apache.spark.sql.delta.catalog.DeltaCatalog\") \\\n",
    "    .getOrCreate()\n",
    "\n",
    "from delta.tables import *"
   ]
  },
  {
   "cell_type": "code",
   "execution_count": 3,
   "metadata": {},
   "outputs": [
    {
     "name": "stdout",
     "output_type": "stream",
     "text": [
      "+---------+----------+-----+\n",
      "|ProductID|      Date|Price|\n",
      "+---------+----------+-----+\n",
      "|      200|2020-08-20| 20.5|\n",
      "|      210|2020-08-20| 45.0|\n",
      "|      220|2020-08-20|34.56|\n",
      "|      230|2020-08-20|23.67|\n",
      "|      240|2020-08-20|89.76|\n",
      "+---------+----------+-----+\n",
      "\n"
     ]
    }
   ],
   "source": [
    "df_productsaug20 = spark.read.csv('hdfs:///delta_lake/raw/products_aug20.csv', header=True, inferSchema=True)\n",
    "df_productsaug20.show()"
   ]
  },
  {
   "cell_type": "code",
   "execution_count": 4,
   "metadata": {},
   "outputs": [],
   "source": [
    "df_productsaug20.write.format(\"delta\").option(\"path\", \"hdfs:///delta_lake/products\").saveAsTable(\"products\")"
   ]
  },
  {
   "cell_type": "code",
   "execution_count": 5,
   "metadata": {},
   "outputs": [
    {
     "name": "stdout",
     "output_type": "stream",
     "text": [
      "+---------+----------+-----+\n",
      "|ProductID|      Date|Price|\n",
      "+---------+----------+-----+\n",
      "|      200|2020-08-20| 20.5|\n",
      "|      210|2020-08-20| 45.0|\n",
      "|      220|2020-08-20|34.56|\n",
      "|      230|2020-08-20|23.67|\n",
      "|      240|2020-08-20|89.76|\n",
      "+---------+----------+-----+\n",
      "\n"
     ]
    }
   ],
   "source": [
    "spark.sql(\"SELECT * FROM products\").show()"
   ]
  },
  {
   "cell_type": "code",
   "execution_count": null,
   "metadata": {},
   "outputs": [],
   "source": [
    "spark.sql(\"CREATE TABLE products USING DELTA LOCATION 'hdfs:///delta_lake/products'\")\n",
    "spark.sql('SELECT * FROM products').show()"
   ]
  },
  {
   "cell_type": "code",
   "execution_count": 9,
   "metadata": {},
   "outputs": [],
   "source": [
    "deltaTable = DeltaTable.forPath(spark, \"hdfs:///delta_lake/products\")"
   ]
  },
  {
   "cell_type": "code",
   "execution_count": 10,
   "metadata": {},
   "outputs": [],
   "source": [
    "deltaTable.update(\"ProductID = '200'\", { \"Price\": \"'48.00'\" } )"
   ]
  },
  {
   "cell_type": "code",
   "execution_count": 12,
   "metadata": {},
   "outputs": [
    {
     "name": "stdout",
     "output_type": "stream",
     "text": [
      "+---------+----------+-----+\n",
      "|ProductID|      Date|Price|\n",
      "+---------+----------+-----+\n",
      "|      200|2020-08-20| 48.0|\n",
      "|      210|2020-08-20| 45.0|\n",
      "|      220|2020-08-20|34.56|\n",
      "|      230|2020-08-20|23.67|\n",
      "|      240|2020-08-20|89.76|\n",
      "+---------+----------+-----+\n",
      "\n"
     ]
    }
   ],
   "source": [
    "df = spark.read.format(\"delta\").option(\"versionAsOf\", 1).load(\"hdfs:///delta_lake/products\")\n",
    "df.show()"
   ]
  },
  {
   "cell_type": "code",
   "execution_count": 13,
   "metadata": {},
   "outputs": [
    {
     "name": "stdout",
     "output_type": "stream",
     "text": [
      "+---------+----------+-----+\n",
      "|ProductID|      Date|Price|\n",
      "+---------+----------+-----+\n",
      "|      200|2020-08-20| 20.5|\n",
      "|      210|2020-08-20| 45.0|\n",
      "|      220|2020-08-20|34.56|\n",
      "|      230|2020-08-20|23.67|\n",
      "|      240|2020-08-20|89.76|\n",
      "+---------+----------+-----+\n",
      "\n"
     ]
    }
   ],
   "source": [
    "df = spark.read.format(\"delta\").option(\"versionAsOf\", 0).load(\"hdfs:///delta_lake/products\")\n",
    "df.show()"
   ]
  },
  {
   "cell_type": "code",
   "execution_count": 14,
   "metadata": {},
   "outputs": [
    {
     "name": "stdout",
     "output_type": "stream",
     "text": [
      "+---------+----------+-----+\n",
      "|ProductID|      Date|Price|\n",
      "+---------+----------+-----+\n",
      "|      200|2020-08-20| 48.0|\n",
      "|      220|2020-08-20|34.56|\n",
      "|      230|2020-08-20|23.67|\n",
      "|      240|2020-08-20|89.76|\n",
      "+---------+----------+-----+\n",
      "\n"
     ]
    }
   ],
   "source": [
    "deltaTable.delete(\"ProductID = 210\") \n",
    "df = spark.read.format(\"delta\").option(\"versionAsOf\", 2).load(\"hdfs:///delta_lake/products\")\n",
    "df.show()"
   ]
  },
  {
   "cell_type": "code",
   "execution_count": 17,
   "metadata": {},
   "outputs": [
    {
     "name": "stdout",
     "output_type": "stream",
     "text": [
      "+---------+----------+-----+\n",
      "|ProductID|      Date|Price|\n",
      "+---------+----------+-----+\n",
      "|      200|2020-08-21| 25.5|\n",
      "|      210|2020-08-21| 46.0|\n",
      "|      220|2020-08-21|34.56|\n",
      "|      230|2020-08-21|23.67|\n",
      "|      240|2020-08-21|90.82|\n",
      "|      250|2020-08-21|89.76|\n",
      "|      260|2020-08-21|54.55|\n",
      "|      270|2020-08-21|96.32|\n",
      "|      280|2020-08-21|44.78|\n",
      "+---------+----------+-----+\n",
      "\n"
     ]
    }
   ],
   "source": [
    "df_productsaug21 = spark.read.csv('hdfs:///delta_lake/raw/products_aug21.csv', header=True, inferSchema=True)\n",
    "df_productsaug21.show()"
   ]
  },
  {
   "cell_type": "code",
   "execution_count": 18,
   "metadata": {},
   "outputs": [],
   "source": [
    "deltaTable.alias(\"products\").merge(\n",
    "    df_productsaug21.alias(\"products_new\"),\n",
    "                    \"products.ProductID = products_new.ProductID\") \\\n",
    "                    .whenMatchedUpdate(set = { \"Price\" : \"products_new.Price\" } ) \\\n",
    "                    .whenNotMatchedInsert(values =\n",
    "                       {\n",
    "                        \"ProductID\": \"products_new.ProductID\",\n",
    "                        \"Date\": \"products_new.Date\",\n",
    "                        \"Price\": \"products_new.Price\"\n",
    "                       }\n",
    "                     ).execute()"
   ]
  },
  {
   "cell_type": "code",
   "execution_count": 19,
   "metadata": {},
   "outputs": [
    {
     "name": "stdout",
     "output_type": "stream",
     "text": [
      "+---------+----------+-----+\n",
      "|ProductID|      Date|Price|\n",
      "+---------+----------+-----+\n",
      "|      250|2020-08-21|89.76|\n",
      "|      270|2020-08-21|96.32|\n",
      "|      280|2020-08-21|44.78|\n",
      "|      200|2020-08-20| 25.5|\n",
      "|      220|2020-08-20|34.56|\n",
      "|      240|2020-08-20|90.82|\n",
      "|      260|2020-08-21|54.55|\n",
      "|      210|2020-08-21| 46.0|\n",
      "|      230|2020-08-20|23.67|\n",
      "+---------+----------+-----+\n",
      "\n"
     ]
    }
   ],
   "source": [
    "df = spark.read.format(\"delta\").option(\"versionAsOf\", 3).load(\"hdfs:///delta_lake/products\")\n",
    "df.show()"
   ]
  },
  {
   "cell_type": "code",
   "execution_count": 20,
   "metadata": {},
   "outputs": [
    {
     "name": "stdout",
     "output_type": "stream",
     "text": [
      "+---------+----------+-----+\n",
      "|ProductID|      Date|Price|\n",
      "+---------+----------+-----+\n",
      "|      250|2020-08-21|89.76|\n",
      "|      270|2020-08-21|96.32|\n",
      "|      280|2020-08-21|44.78|\n",
      "|      200|2020-08-20| 25.5|\n",
      "|      220|2020-08-20|34.56|\n",
      "|      240|2020-08-20|90.82|\n",
      "|      260|2020-08-21|54.55|\n",
      "|      210|2020-08-21| 46.0|\n",
      "|      230|2020-08-20|23.67|\n",
      "+---------+----------+-----+\n",
      "\n"
     ]
    }
   ],
   "source": [
    "spark.table(\"products\").show()"
   ]
  },
  {
   "cell_type": "code",
   "execution_count": 21,
   "metadata": {},
   "outputs": [],
   "source": [
    "deltaTable.update(\"ProductID = '230'\", { \"Price\": \"'33.67'\" } )\n",
    "deltaTable.update(\"ProductID = '210'\", { \"Price\": \"'56.00'\" } )\n",
    "deltaTable.update(\"ProductID = '250'\", { \"Price\": \"'99.76'\" } )\n",
    "deltaTable.update(\"ProductID = '220'\", { \"Price\": \"'44.56'\" } )\n",
    "deltaTable.update(\"ProductID = '240'\", { \"Price\": \"'100.82'\" } )\n",
    "deltaTable.update(\"ProductID = '200'\", { \"Price\": \"'35.5'\" } )\n",
    "deltaTable.update(\"ProductID = '260'\", { \"Price\": \"'64.55'\" } )\n",
    "deltaTable.update(\"ProductID = '280'\", { \"Price\": \"'54.78'\" } )\n",
    "deltaTable.update(\"ProductID = '270'\", { \"Price\": \"'106.32'\" } )"
   ]
  }
 ],
 "metadata": {
  "kernelspec": {
   "display_name": "Python 3",
   "language": "python",
   "name": "python3"
  },
  "language_info": {
   "codemirror_mode": {
    "name": "ipython",
    "version": 3
   },
   "file_extension": ".py",
   "mimetype": "text/x-python",
   "name": "python",
   "nbconvert_exporter": "python",
   "pygments_lexer": "ipython3",
   "version": "3.6.8"
  }
 },
 "nbformat": 4,
 "nbformat_minor": 4
}
