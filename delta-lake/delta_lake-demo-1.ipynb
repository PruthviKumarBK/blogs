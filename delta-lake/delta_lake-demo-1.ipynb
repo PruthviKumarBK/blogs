{
 "cells": [
  {
   "cell_type": "code",
   "execution_count": null,
   "metadata": {},
   "outputs": [],
   "source": [
    "from pyspark.sql import SparkSession\n",
    "import pyspark\n",
    "from pyspark.sql.functions import *\n",
    "spark = pyspark.sql.SparkSession.builder.appName(\"Product_Price_Tracking\") \\\n",
    "    .config(\"spark.jars.packages\", \"io.delta:delta-core_2.12:0.7.0\") \\\n",
    "    .config(\"spark.sql.extensions\", \"io.delta.sql.DeltaSparkSessionExtension\") \\\n",
    "    .config(\"spark.sql.catalog.spark_catalog\", \"org.apache.spark.sql.delta.catalog.DeltaCatalog\") \\\n",
    "    .getOrCreate()\n",
    "\n",
    "from delta.tables import *"
   ]
  },
  {
   "cell_type": "code",
   "execution_count": null,
   "metadata": {},
   "outputs": [],
   "source": [
    "df_productsaug20 = spark.read.csv('hdfs:///delta_lake/raw/products_aug20.csv', header=True, inferSchema=True)\n",
    "df_productsaug20.show()"
   ]
  },
  {
   "cell_type": "code",
   "execution_count": null,
   "metadata": {},
   "outputs": [],
   "source": [
    "df_productsaug20.write.format(\"delta\").save(\"hdfs:///delta_lake/products\")"
   ]
  },
  {
   "cell_type": "code",
   "execution_count": null,
   "metadata": {},
   "outputs": [],
   "source": [
    "spark.sql(\"CREATE TABLE products USING DELTA LOCATION 'hdfs:///delta_lake/products'\")\n",
    "spark.sql('SELECT * FROM products').show()"
   ]
  },
  {
   "cell_type": "code",
   "execution_count": null,
   "metadata": {},
   "outputs": [],
   "source": [
    "deltaTable = DeltaTable.forPath(spark, \"hdfs:///delta_lake/products\").alias(\"products\")\n",
    "spark.table(\"products\").show()"
   ]
  },
  {
   "cell_type": "code",
   "execution_count": null,
   "metadata": {},
   "outputs": [],
   "source": [
    "deltaTable.update(\"ProductID = '200'\", { \"Price\": \"'48.00'\" } )"
   ]
  },
  {
   "cell_type": "code",
   "execution_count": null,
   "metadata": {},
   "outputs": [],
   "source": [
    "df = spark.read.format(\"delta\").option(\"versionAsOf\", 1).load(\"hdfs:///delta_lake/products\")\n",
    "df.show()"
   ]
  },
  {
   "cell_type": "code",
   "execution_count": null,
   "metadata": {},
   "outputs": [],
   "source": [
    "df = spark.read.format(\"delta\").option(\"versionAsOf\", 0).load(\"hdfs:///delta_lake/products\")\n",
    "df.show()"
   ]
  },
  {
   "cell_type": "code",
   "execution_count": null,
   "metadata": {},
   "outputs": [],
   "source": [
    "deltaTable.delete(\"ProductID = 210\") "
   ]
  },
  {
   "cell_type": "code",
   "execution_count": null,
   "metadata": {},
   "outputs": [],
   "source": [
    "df = spark.read.format(\"delta\").option(\"versionAsOf\", 2).load(\"hdfs:///tmp/products\")\n",
    "df.show()"
   ]
  },
  {
   "cell_type": "code",
   "execution_count": null,
   "metadata": {},
   "outputs": [],
   "source": [
    "df_productsaug21 = spark.read.csv('hdfs:///delta_lake/raw/products_aug21.csv', header=True, inferSchema=True)\n",
    "df_productsaug21.show()"
   ]
  },
  {
   "cell_type": "code",
   "execution_count": null,
   "metadata": {},
   "outputs": [],
   "source": [
    "deltaTable.alias(\"products\").merge(\n",
    "    df_productsaug21.alias(\"products_new\"),\n",
    "                    \"products.ProductID = products_new.ProductID\") \\\n",
    "                    .whenMatchedUpdate(set = { \"Price\" : \"products_new.Price\" } ) \\\n",
    "                    .whenNotMatchedInsert(values =\n",
    "                       {\n",
    "                        \"ProductID\": \"products_new.ProductID\",\n",
    "                        \"Date\": \"products_new.Date\",\n",
    "                        \"Price\": \"products_new.Price\"\n",
    "                       }\n",
    "                     ).execute()"
   ]
  },
  {
   "cell_type": "code",
   "execution_count": null,
   "metadata": {},
   "outputs": [],
   "source": [
    "df = spark.read.format(\"delta\").option(\"versionAsOf\", 3).load(\"hdfs:///delta_lake/products\")\n",
    "df.show()"
   ]
  },
  {
   "cell_type": "code",
   "execution_count": null,
   "metadata": {},
   "outputs": [],
   "source": [
    "spark.table(\"products\").show()"
   ]
  },
  {
   "cell_type": "code",
   "execution_count": null,
   "metadata": {},
   "outputs": [],
   "source": [
    "deltaTable.update(\"ProductID = '230'\", { \"Price\": \"'33.67'\" } )\n",
    "deltaTable.update(\"ProductID = '210'\", { \"Price\": \"'56.00'\" } )\n",
    "deltaTable.update(\"ProductID = '250'\", { \"Price\": \"'99.76'\" } )\n",
    "deltaTable.update(\"ProductID = '220'\", { \"Price\": \"'44.56'\" } )\n",
    "deltaTable.update(\"ProductID = '240'\", { \"Price\": \"'100.82'\" } )\n",
    "deltaTable.update(\"ProductID = '200'\", { \"Price\": \"'35.5'\" } )\n",
    "deltaTable.update(\"ProductID = '260'\", { \"Price\": \"'64.55'\" } )\n",
    "deltaTable.update(\"ProductID = '280'\", { \"Price\": \"'54.78'\" } )\n",
    "deltaTable.update(\"ProductID = '270'\", { \"Price\": \"'106.32'\" } )"
   ]
  }
 ],
 "metadata": {
  "kernelspec": {
   "display_name": "Python 3",
   "language": "python",
   "name": "python3"
  },
  "language_info": {
   "codemirror_mode": {
    "name": "ipython",
    "version": 3
   },
   "file_extension": ".py",
   "mimetype": "text/x-python",
   "name": "python",
   "nbconvert_exporter": "python",
   "pygments_lexer": "ipython3",
   "version": "3.6.8"
  }
 },
 "nbformat": 4,
 "nbformat_minor": 4
}
